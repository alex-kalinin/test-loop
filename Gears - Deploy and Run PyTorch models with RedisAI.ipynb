{
 "cells": [
  {
   "cell_type": "markdown",
   "metadata": {},
   "source": [
    "# Load and use model in Redis AI"
   ]
  },
  {
   "cell_type": "markdown",
   "metadata": {},
   "source": [
    "1. docker run -p 6379:6379 -it --rm redisai/redisai\n",
    "\n",
    "\n",
    "* https://oss.redislabs.com/redisai/commands/\n",
    "* https://oss.redislabs.com/redisai/\n",
    "\n",
    "Use Redisai.py to upload the model to Redis."
   ]
  },
  {
   "cell_type": "code",
   "execution_count": 1,
   "metadata": {},
   "outputs": [],
   "source": [
    "import redisai\n",
    "import redis\n",
    "import ml2rt\n",
    "from PIL import Image\n",
    "from torchvision import transforms\n",
    "import numpy as np\n",
    "\n",
    "class Object(object): pass"
   ]
  },
  {
   "cell_type": "code",
   "execution_count": 2,
   "metadata": {},
   "outputs": [],
   "source": [
    "tr = Object()"
   ]
  },
  {
   "cell_type": "code",
   "execution_count": 3,
   "metadata": {},
   "outputs": [],
   "source": [
    "tr.redis = redisai.Client()"
   ]
  },
  {
   "cell_type": "code",
   "execution_count": 4,
   "metadata": {},
   "outputs": [],
   "source": [
    "tr.loaded_model = ml2rt.load_model('plant.pt')"
   ]
  },
  {
   "cell_type": "code",
   "execution_count": 5,
   "metadata": {},
   "outputs": [
    {
     "data": {
      "text/plain": [
       "94481061"
      ]
     },
     "execution_count": 5,
     "metadata": {},
     "output_type": "execute_result"
    }
   ],
   "source": [
    "len(tr.loaded_model)"
   ]
  },
  {
   "cell_type": "code",
   "execution_count": 7,
   "metadata": {},
   "outputs": [
    {
     "ename": "AttributeError",
     "evalue": "module 'redisai' has no attribute 'Backend'",
     "output_type": "error",
     "traceback": [
      "\u001b[0;31m---------------------------------------------------------------------------\u001b[0m",
      "\u001b[0;31mAttributeError\u001b[0m                            Traceback (most recent call last)",
      "\u001b[0;32m<ipython-input-7-28f0bed7863c>\u001b[0m in \u001b[0;36m<module>\u001b[0;34m()\u001b[0m\n\u001b[1;32m      1\u001b[0m tr.redis.modelset(\n\u001b[1;32m      2\u001b[0m     \u001b[0;34m\"plant\"\u001b[0m\u001b[0;34m,\u001b[0m\u001b[0;34m\u001b[0m\u001b[0;34m\u001b[0m\u001b[0m\n\u001b[0;32m----> 3\u001b[0;31m     \u001b[0mredisai\u001b[0m\u001b[0;34m.\u001b[0m\u001b[0mBackend\u001b[0m\u001b[0;34m.\u001b[0m\u001b[0mtorch\u001b[0m\u001b[0;34m,\u001b[0m\u001b[0;34m\u001b[0m\u001b[0;34m\u001b[0m\u001b[0m\n\u001b[0m\u001b[1;32m      4\u001b[0m     \u001b[0mredisai\u001b[0m\u001b[0;34m.\u001b[0m\u001b[0mDevice\u001b[0m\u001b[0;34m.\u001b[0m\u001b[0mcpu\u001b[0m\u001b[0;34m,\u001b[0m\u001b[0;34m\u001b[0m\u001b[0;34m\u001b[0m\u001b[0m\n\u001b[1;32m      5\u001b[0m     tr.loaded_model)\n",
      "\u001b[0;31mAttributeError\u001b[0m: module 'redisai' has no attribute 'Backend'"
     ]
    }
   ],
   "source": [
    "tr.redis.modelset(\n",
    "    \"plant\", \n",
    "    redisai.Backend.torch,\n",
    "    redisai.Device.cpu,\n",
    "    tr.loaded_model)"
   ]
  },
  {
   "cell_type": "markdown",
   "metadata": {},
   "source": [
    "This is prediction is from the Linear layer. To convert to probabilities, we need to apply the Softmax function:"
   ]
  },
  {
   "cell_type": "code",
   "execution_count": null,
   "metadata": {},
   "outputs": [],
   "source": [
    "tr.conn = redis.Redis()"
   ]
  },
  {
   "cell_type": "markdown",
   "metadata": {},
   "source": [
    "## Set up Gears"
   ]
  },
  {
   "cell_type": "code",
   "execution_count": null,
   "metadata": {},
   "outputs": [],
   "source": [
    "# !ls ../../test-loop/"
   ]
  },
  {
   "cell_type": "code",
   "execution_count": null,
   "metadata": {},
   "outputs": [],
   "source": [
    "print('Loading gear - ', end='')\n",
    "with open('../../test-loop/gear_stream.py', 'rb') as tr.f:\n",
    "    tr.gear = tr.f.read()\n",
    "    tr.res = tr.conn.execute_command(\n",
    "        'RG.PYEXECUTE',tr. gear,\n",
    "        'REQUIREMENTS', 'imageio', 'opencv-python')\n",
    "    print(tr.res)"
   ]
  },
  {
   "cell_type": "code",
   "execution_count": null,
   "metadata": {},
   "outputs": [],
   "source": [
    "result = tr.conn.execute_command(\n",
    "    'xadd', \n",
    "    'input:0', \n",
    "    '*',\n",
    "    'url', \n",
    "    'https://pbs.twimg.com/media/EXKlWjmU8AAlXFh?format=jpg&name=medium',\n",
    ")\n",
    "\n",
    "print(result)"
   ]
  },
  {
   "cell_type": "code",
   "execution_count": null,
   "metadata": {},
   "outputs": [],
   "source": [
    "print(tr.conn.execute_command('GET', 'result'))\n",
    "print(tr.conn.execute_command('GET', 'log:0').decode())"
   ]
  },
  {
   "cell_type": "code",
   "execution_count": null,
   "metadata": {},
   "outputs": [],
   "source": []
  },
  {
   "cell_type": "markdown",
   "metadata": {},
   "source": [
    "### Twitter Loop"
   ]
  },
  {
   "cell_type": "code",
   "execution_count": null,
   "metadata": {},
   "outputs": [],
   "source": [
    "import io, urllib.request, time, twitter, os, PIL\n",
    "\n",
    "def twitter_loop():\n",
    "    msg = Object()\n",
    "    msg.running = True\n",
    "    \n",
    "    api = twitter.Api(\n",
    "        consumer_key=os.environ['TWITTER_CONSUMER_KEY'],\n",
    "        consumer_secret=os.environ['TWITTER_CONSUMER_SECRET'],\n",
    "        access_token_key=os.environ['TWITTER_TOKEN_KEY'],\n",
    "        access_token_secret=os.environ['TWITTER_TOKEN_SECRET'])   \n",
    "    \n",
    "    labels = ['healthy', 'multiple_diseases', 'rust', 'scab']\n",
    "    \n",
    "    timeline = api.GetUserTimeline(screen_name=\"alexonsoftware\", \n",
    "                        count=10, \n",
    "                        include_rts=False,\n",
    "                        exclude_replies=True)    \n",
    "    \n",
    "    since_id = since_id = timeline[0].id \\\n",
    "        if len(timeline) > 0 \\\n",
    "        else 0\n",
    "\n",
    "    while msg.running:\n",
    "        msg.t = api.GetUserTimeline(screen_name=\"alexonsoftware\", \n",
    "                            count=10, \n",
    "                            include_rts=False,\n",
    "                            exclude_replies=True,\n",
    "                            since_id=since_id)\n",
    "        if len(msg.t) > 0:\n",
    "            for msg.tweet in msg.t:\n",
    "                if 'media' in msg.tweet.AsDict():\n",
    "                    msg.media_list = msg.tweet.AsDict()['media']\n",
    "                    for msg.pic in msg.media_list:\n",
    "                        \n",
    "                        result = conn.execute_command(\n",
    "                            'xadd', 'input:0', '*',\n",
    "                            'url', msg.pic['media_url'])\n",
    "                        print(result)\n",
    "                        api.PostUpdate(\n",
    "                            status=result,\n",
    "                            in_reply_to_status_id=msg.tweet.id\n",
    "                        )\n",
    "                since_id = max(since_id, msg.tweet.id)\n",
    "        time.sleep(1)\n",
    "        msg.running = True"
   ]
  },
  {
   "cell_type": "code",
   "execution_count": null,
   "metadata": {},
   "outputs": [],
   "source": [
    "twitter_loop()"
   ]
  },
  {
   "cell_type": "code",
   "execution_count": null,
   "metadata": {},
   "outputs": [],
   "source": []
  }
 ],
 "metadata": {
  "kernelspec": {
   "display_name": "Python 3",
   "language": "python",
   "name": "python3"
  },
  "language_info": {
   "codemirror_mode": {
    "name": "ipython",
    "version": 3
   },
   "file_extension": ".py",
   "mimetype": "text/x-python",
   "name": "python",
   "nbconvert_exporter": "python",
   "pygments_lexer": "ipython3",
   "version": "3.6.9"
  },
  "varInspector": {
   "cols": {
    "lenName": 16,
    "lenType": 16,
    "lenVar": 40
   },
   "kernels_config": {
    "python": {
     "delete_cmd_postfix": "",
     "delete_cmd_prefix": "del ",
     "library": "var_list.py",
     "varRefreshCmd": "print(var_dic_list())"
    },
    "r": {
     "delete_cmd_postfix": ") ",
     "delete_cmd_prefix": "rm(",
     "library": "var_list.r",
     "varRefreshCmd": "cat(var_dic_list()) "
    }
   },
   "types_to_exclude": [
    "module",
    "function",
    "builtin_function_or_method",
    "instance",
    "_Feature"
   ],
   "window_display": false
  }
 },
 "nbformat": 4,
 "nbformat_minor": 2
}
