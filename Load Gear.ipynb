{
 "cells": [
  {
   "cell_type": "code",
   "execution_count": null,
   "metadata": {},
   "outputs": [],
   "source": [
    "import argparse\n",
    "import redis\n",
    "from urllib.parse import urlparse\n",
    "import imageio"
   ]
  },
  {
   "cell_type": "code",
   "execution_count": null,
   "metadata": {},
   "outputs": [],
   "source": [
    "# Set up some vars\n",
    "initialized_key = 'cats:initialized'\n",
    "\n",
    "# Set up Redis connection\n",
    "url = urlparse('redis://127.0.0.1:6379')\n",
    "conn = redis.Redis(host=url.hostname, port=url.port)\n",
    "if not conn.ping():\n",
    "    raise Exception('Redis unavailable')\n",
    "\n",
    "# Check if this Redis instance had already been initialized\n",
    "initialized = conn.exists(initialized_key)\n",
    "if initialized:\n",
    "    print('Discovered evidence of a previous initialization - skipping.')\n",
    "    exit(0)\n",
    "\n",
    "# Load the RedisAI model\n",
    "print('Loading model - ', end='')\n",
    "with open('../model.pt', 'rb') as f:\n",
    "    model = f.read()\n",
    "    res = conn.execute_command(\n",
    "        'AI.MODELSET', \n",
    "        'model', \n",
    "        'TORCH', \n",
    "        'CPU', \n",
    "        'INPUTS', 'input', \n",
    "        'OUTPUTS', 'pred', \n",
    "        model)\n",
    "    print(res)"
   ]
  },
  {
   "cell_type": "code",
   "execution_count": null,
   "metadata": {},
   "outputs": [],
   "source": [
    "# Load the gear\n",
    "print('Loading gear - ', end='')\n",
    "with open('gear_stream.py', 'rb') as f:\n",
    "    gear = f.read()\n",
    "    res = conn.execute_command('RG.PYEXECUTE', gear)\n",
    "    print(res)\n",
    "\n",
    "# Lastly, set a key that indicates initialization has been performed\n",
    "print('Flag initialization as done - ', end='')\n",
    "\n",
    "print(conn.set(initialized_key, 'miauw'))"
   ]
  },
  {
   "cell_type": "code",
   "execution_count": null,
   "metadata": {},
   "outputs": [],
   "source": []
  }
 ],
 "metadata": {
  "kernelspec": {
   "display_name": "Python 3",
   "language": "python",
   "name": "python3"
  },
  "language_info": {
   "codemirror_mode": {
    "name": "ipython",
    "version": 3
   },
   "file_extension": ".py",
   "mimetype": "text/x-python",
   "name": "python",
   "nbconvert_exporter": "python",
   "pygments_lexer": "ipython3",
   "version": "3.6.9"
  },
  "varInspector": {
   "cols": {
    "lenName": 16,
    "lenType": 16,
    "lenVar": 40
   },
   "kernels_config": {
    "python": {
     "delete_cmd_postfix": "",
     "delete_cmd_prefix": "del ",
     "library": "var_list.py",
     "varRefreshCmd": "print(var_dic_list())"
    },
    "r": {
     "delete_cmd_postfix": ") ",
     "delete_cmd_prefix": "rm(",
     "library": "var_list.r",
     "varRefreshCmd": "cat(var_dic_list()) "
    }
   },
   "types_to_exclude": [
    "module",
    "function",
    "builtin_function_or_method",
    "instance",
    "_Feature"
   ],
   "window_display": false
  }
 },
 "nbformat": 4,
 "nbformat_minor": 2
}
